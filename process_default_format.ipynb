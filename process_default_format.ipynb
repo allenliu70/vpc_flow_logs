{
 "cells": [
  {
   "cell_type": "code",
   "execution_count": 5,
   "metadata": {},
   "outputs": [
    {
     "name": "stdout",
     "output_type": "stream",
     "text": [
      "143 tcp sv_P1\n",
      "143 udp sv_P2\n",
      "143 tcp sv_P1\n",
      "143 udp SV_P3\n",
      "143 tcp sv_P2\n",
      "143 tcp sv_P4\n",
      "143 tcp sv_P5\n",
      "143 icmp sv_P5\n",
      "143 tcp email\n",
      "143 tcp email\n",
      "143 tcp email\n",
      "{('0', 'icmp'): 'sv_P5',\n",
      " ('110', 'tcp'): 'email',\n",
      " ('143', 'tcp'): 'email',\n",
      " ('22', 'tcp'): 'sv_P4',\n",
      " ('23', 'tcp'): 'sv_P1',\n",
      " ('25', 'tcp'): 'sv_P1',\n",
      " ('31', 'udp'): 'SV_P3',\n",
      " ('3389', 'tcp'): 'sv_P5',\n",
      " ('443', 'tcp'): 'sv_P2',\n",
      " ('68', 'udp'): 'sv_P2',\n",
      " ('993', 'tcp'): 'email'}\n"
     ]
    }
   ],
   "source": [
    "import csv\n",
    "from pprint import pprint\n",
    "\n",
    "mappings = {}\n",
    "\n",
    "with open('lookup_table.csv') as lookup_table_csv:\n",
    "    csv_reader = csv.reader(lookup_table_csv)\n",
    "    for dstport, protocol, tag in csv_reader:\n",
    "        if dstport.isdigit():\n",
    "            port = int(port)\n",
    "            print(port, protocol, tag)\n",
    "            mappings[(dstport, protocol)] = tag\n",
    "\n",
    "pprint(mappings)"
   ]
  },
  {
   "cell_type": "code",
   "execution_count": 7,
   "metadata": {},
   "outputs": [
    {
     "name": "stdout",
     "output_type": "stream",
     "text": [
      "24\n",
      "{0: 'HOPOPTS',\n",
      " 1: 'ICMP',\n",
      " 2: 'IGMP',\n",
      " 4: 'IPIP',\n",
      " 6: 'TCP',\n",
      " 8: 'EGP',\n",
      " 12: 'PUP',\n",
      " 17: 'UDP',\n",
      " 22: 'IDP',\n",
      " 29: 'TP',\n",
      " 41: 'IPV6',\n",
      " 43: 'ROUTING',\n",
      " 44: 'FRAGMENT',\n",
      " 46: 'RSVP',\n",
      " 47: 'GRE',\n",
      " 50: 'ESP',\n",
      " 51: 'AH',\n",
      " 58: 'ICMPV6',\n",
      " 59: 'NONE',\n",
      " 60: 'DSTOPTS',\n",
      " 103: 'PIM',\n",
      " 132: 'SCTP',\n",
      " 136: 'UDPLITE',\n",
      " 255: 'RAW'}\n"
     ]
    }
   ],
   "source": [
    "import socket\n",
    "prefix = \"IPPROTO_\"\n",
    "table = {num:name[len(prefix):] \n",
    "          for name,num in vars(socket).items()\n",
    "            if name.startswith(prefix)}\n",
    "\n",
    "assert table[6] == 'TCP'\n",
    "assert table[0x11] == 'UDP'\n",
    "print(len(table)) # in python 3.10.0 this has 30 entries\n",
    "from pprint import pprint\n",
    "pprint(table) # if you want to see what is available to you"
   ]
  },
  {
   "cell_type": "code",
   "execution_count": 11,
   "metadata": {},
   "outputs": [
    {
     "data": {
      "text/plain": [
       "'ssh'"
      ]
     },
     "execution_count": 11,
     "metadata": {},
     "output_type": "execute_result"
    }
   ],
   "source": [
    "import socket\n",
    "\n",
    "socket.getservbyport(22)"
   ]
  },
  {
   "cell_type": "code",
   "execution_count": null,
   "metadata": {},
   "outputs": [],
   "source": [
    "import csv\n",
    "\n",
    "# Initialize an empty dictionary to store the mapping\n",
    "protocol_mapping = {}\n",
    "\n",
    "# Open the CSV file containing the protocol numbers and names\n",
    "with open('protocol-numbers.csv', mode='r') as file:\n",
    "    csv_reader = csv.reader(file)\n",
    "    \n",
    "    # Skip the header row if there is one\n",
    "    next(csv_reader)\n",
    "    \n",
    "    # Iterate over each row in the CSV file\n",
    "    for row in csv_reader:\n",
    "        # Assuming the first column is the protocol number and the second column is the protocol name\n",
    "        protocol_number = int(row[0])\n",
    "        protocol_name = row[1]\n",
    "        protocol_mapping[protocol_number] = protocol_name\n",
    "\n",
    "# Example usage: Get the protocol name for a given protocol number\n",
    "protocol_number = 6\n",
    "protocol_name = protocol_mapping.get(protocol_number, \"Unknown Protocol\")\n",
    "print(f\"Protocol number {protocol_number} corresponds to {protocol_name}\")"
   ]
  }
 ],
 "metadata": {
  "kernelspec": {
   "display_name": "Python 3",
   "language": "python",
   "name": "python3"
  },
  "language_info": {
   "codemirror_mode": {
    "name": "ipython",
    "version": 3
   },
   "file_extension": ".py",
   "mimetype": "text/x-python",
   "name": "python",
   "nbconvert_exporter": "python",
   "pygments_lexer": "ipython3",
   "version": "3.12.7"
  }
 },
 "nbformat": 4,
 "nbformat_minor": 2
}
