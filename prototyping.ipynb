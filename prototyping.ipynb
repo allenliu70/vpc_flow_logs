{
 "cells": [
  {
   "cell_type": "code",
   "execution_count": null,
   "metadata": {},
   "outputs": [],
   "source": [
    "import csv\n",
    "from typing import List\n",
    "\n",
    "def get_iana_protocol_numbers() -> List:\n",
    "    # Initialize an empty dictionary to store the mapping\n",
    "    protocol_numbers = []\n",
    "\n",
    "    try:\n",
    "        print('Retrieving IANA protocol numbers.')\n",
    "        # Open the CSV file containing the protocol numbers and names\n",
    "        with open('protocol-numbers.csv', mode='r') as file:\n",
    "            csv_reader = csv.reader(file)\n",
    "            \n",
    "            # Skip the header row if there is one\n",
    "            next(csv_reader)\n",
    "            \n",
    "            # Iterate over each row in the CSV file, assuming the first column is the protocol number\n",
    "            protocol_numbers = [int(row[0]) for row in csv_reader if row[0].isdigit()]\n",
    "                \n",
    "    except FileNotFoundError:\n",
    "        print(\"The file was not found.\")\n",
    "    except IOError as e:\n",
    "        print(f\"An I/O error occurred: {e}\")\n",
    "    else:\n",
    "        print('Sucessfully read IANA protocol numbers from the saved csv file.')\n",
    "    finally:\n",
    "        print(\"Finished file operation.\")\n",
    "    \n",
    "    return protocol_numbers\n",
    "\n",
    "get_iana_protocol_numbers()"
   ]
  },
  {
   "cell_type": "code",
   "execution_count": 5,
   "metadata": {},
   "outputs": [
    {
     "name": "stdout",
     "output_type": "stream",
     "text": [
      "Retrieving IANA protocol numbers.\n",
      "Sucessfully read IANA protocol numbers from the saved csv file.\n",
      "Finished file operation.\n",
      "[25, 68, 23, 31, 443, 22, 3389, 0, 110, 993, 143]\n"
     ]
    }
   ],
   "source": [
    "def get_pre_selected_ports() -> List:\n",
    "    # Initialize an empty dictionary to store the mapping\n",
    "    pre_select_ports = []\n",
    "\n",
    "    try:\n",
    "        print('Retrieving IANA protocol numbers.')\n",
    "        # Open the CSV file containing the protocol numbers and names\n",
    "        with open('lookup_table.csv', mode='r') as file:\n",
    "            csv_reader = csv.reader(file)\n",
    "            \n",
    "            # Skip the header row if there is one\n",
    "            next(csv_reader)\n",
    "            \n",
    "            # Iterate over each row in the CSV file, assuming the first column is the protocol number\n",
    "            pre_select_ports = [int(row[0]) for row in csv_reader if row[0].isdigit()]\n",
    "                \n",
    "    except FileNotFoundError:\n",
    "        print(\"The file was not found.\")\n",
    "    except IOError as e:\n",
    "        print(f\"An I/O error occurred: {e}\")\n",
    "    else:\n",
    "        print('Sucessfully read IANA protocol numbers from the saved csv file.')\n",
    "    finally:\n",
    "        print(\"Finished file operation.\")\n",
    "    \n",
    "    return pre_select_ports\n",
    "    pass\n",
    "\n",
    "# since the range (1, 65535) for ports results in mostly untagged entries, I made an assumption here\n",
    "# that we may be more interseted in small set of pre-selecte ports\n",
    "# pre_selected_ports = [25, 68, 23, 31, 443, 22, 3389, 0, 110, 993, 143] # taken from the sample tag mappings lookup table.\n",
    "pre_selected_ports = get_pre_selected_ports()\n",
    "print(pre_selected_ports)\n",
    "\n"
   ]
  }
 ],
 "metadata": {
  "kernelspec": {
   "display_name": "Python 3",
   "language": "python",
   "name": "python3"
  },
  "language_info": {
   "codemirror_mode": {
    "name": "ipython",
    "version": 3
   },
   "file_extension": ".py",
   "mimetype": "text/x-python",
   "name": "python",
   "nbconvert_exporter": "python",
   "pygments_lexer": "ipython3",
   "version": "3.12.7"
  }
 },
 "nbformat": 4,
 "nbformat_minor": 2
}
